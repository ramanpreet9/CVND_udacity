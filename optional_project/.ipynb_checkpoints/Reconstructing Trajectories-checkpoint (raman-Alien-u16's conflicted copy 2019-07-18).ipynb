{
 "cells": [
  {
   "cell_type": "markdown",
   "metadata": {},
   "source": [
    "## Raw Input Data\n",
    "\n",
    "The data you'll be working with has been preprocessed from CSVs that looks like this:\n",
    "\n",
    "| timestamp | displacement  | yaw_rate | acceleration |\n",
    "| :-------: | :----------: | :------: | :----------: |\n",
    "| 0.0 | 0 | 0.0 | 0.0 |\n",
    "| 0.25 | 0.0 | 0.0 | 19.6 |\n",
    "| 0.5 | 1.225 | 0.0 | 19.6 |\n",
    "| 0.75 | 3.675 | 0.0 | 19.6 |\n",
    "| 1.0 | 7.35 | 0.0 | 19.6 |\n",
    "| 1.25 | 12.25 | 0.0 | 0.0 |\n",
    "| 1.5 | 17.15 | -2.82901631903 | 0.0 |\n",
    "| 1.75 | 22.05 | -2.82901631903 | 0.0 |\n",
    "| 2.0 | 26.95 | -2.82901631903 | 0.0 |\n",
    "| 2.25 | 31.85 | -2.82901631903 | 0.0 |\n",
    "| 2.5 | 36.75 | -2.82901631903 | 0.0 |\n",
    "| 2.75 | 41.65 | -2.82901631903 | 0.0 |\n",
    "| 3.0 | 46.55 | -2.82901631903 | 0.0 |\n",
    "| 3.25 | 51.45 | -2.82901631903 | 0.0 |\n",
    "| 3.5 | 56.35 | -2.82901631903 | 0.0 |\n",
    "\n",
    "This data is currently saved in a file called `trajectory_example.pickle`. It can be loaded using a helper function we've provided (demonstrated below):"
   ]
  },
  {
   "cell_type": "code",
   "execution_count": 1,
   "metadata": {},
   "outputs": [
    {
     "name": "stdout",
     "output_type": "stream",
     "text": [
      "(0.0, 0, 0.0, 0.0)\n",
      "(0.25, 0.0, 0.0, 19.6)\n",
      "(0.5, 1.225, 0.0, 19.6)\n",
      "(0.75, 3.6750000000000003, 0.0, 19.6)\n",
      "(1.0, 7.3500000000000005, 0.0, 19.6)\n",
      "(1.25, 12.25, 0.0, 0.0)\n",
      "(1.5, 17.15, -2.8290163190291664, 0.0)\n",
      "(1.75, 22.049999999999997, -2.8290163190291664, 0.0)\n",
      "(2.0, 26.949999999999996, -2.8290163190291664, 0.0)\n",
      "(2.25, 31.849999999999994, -2.8290163190291664, 0.0)\n",
      "(2.5, 36.74999999999999, -2.8290163190291664, 0.0)\n",
      "(2.75, 41.64999999999999, -2.8290163190291664, 0.0)\n",
      "(3.0, 46.54999999999999, -2.8290163190291664, 0.0)\n",
      "(3.25, 51.44999999999999, -2.8290163190291664, 0.0)\n",
      "(3.5, 56.34999999999999, -2.8290163190291664, 0.0)\n"
     ]
    }
   ],
   "source": [
    "from helpers import process_data\n",
    "%matplotlib inline\n",
    "\n",
    "data_list = process_data(\"trajectory_example.pickle\")\n",
    "\n",
    "for entry in data_list:\n",
    "    print(entry)"
   ]
  },
  {
   "cell_type": "markdown",
   "metadata": {},
   "source": [
    "as you can see, each entry in `data_list` contains four fields. Those fields correspond to `timestamp` (seconds), `displacement` (meters), `yaw_rate` (rads / sec), and `acceleration` (m/s/s).\n",
    "\n",
    "### The Point of this Project!\n",
    "**Data tells a story but you have to know how to find it!** \n",
    "\n",
    "Contained in the data above is all the information you need to reconstruct a fairly complex vehicle trajectory. After processing **this** exact data, it's possible to generate this plot of the vehicle's X and Y position:\n",
    "\n",
    "![](https://d17h27t6h515a5.cloudfront.net/topher/2017/December/5a3044ac_example-trajectory/example-trajectory.png)\n",
    "\n",
    "as you can see, this vehicle first accelerates forwards and then turns right until it almost completes a full circle turn.\n",
    "\n",
    "### Data Explained\n",
    "\n",
    "**`timestamp`** - Timestamps are all measured in seconds. The time between successive timestamps ($\\Delta t$) will always be the same *within* a trajectory's data set (but not *between* data sets).\n",
    "\n",
    "**`displacement`** - Displacement data from the odometer is in meters and gives the **total** distance traveled up to this point.\n",
    "\n",
    "**`yaw_rate`** - Yaw rate is measured in radians per second with the convention that positive yaw corresponds to *counter-clockwise* rotation. \n",
    "\n",
    "**`acceleration`** - Acceleration is measured in $\\frac{m/s}{s}$ and is always **in the direction of motion of the vehicle** (forward). \n",
    "\n",
    "> **NOTE** - you may not need to use all of this data when reconstructing vehicle trajectories."
   ]
  },
  {
   "cell_type": "markdown",
   "metadata": {},
   "source": [
    "## Your Job\n",
    "Your job is to complete the following functions, all of which take a processed `data_list` (with $N$ entries, each $\\Delta t$ apart) as input:\n",
    "\n",
    "* `get_speeds` - returns a length $N$ list where entry $i$ contains the speed ($m/s$) of the vehicle at $t = i \\times \\Delta t$ \n",
    "\n",
    "* `get_headings` - returns a length $N$ list where entry $i$ contains the heading (radians, $0 \\leq \\theta < 2\\pi$) of the vehicle at $t = i \\times \\Delta t$\n",
    "\n",
    "* `get_x_y` - returns a length $N$ list where entry $i$ contains an `(x, y)` tuple corresponding to the $x$ and $y$ coordinates (meters) of the vehicle at $t = i \\times \\Delta t$ \n",
    "\n",
    "* `show_x_y` - generates an x vs. y scatter plot of vehicle positions. "
   ]
  },
  {
   "cell_type": "code",
   "execution_count": 15,
   "metadata": {},
   "outputs": [
    {
     "name": "stdout",
     "output_type": "stream",
     "text": [
      "[0.0, 0.0, 0.0, 0.0, 0.0, 0.0, -2.8290163190291664, -2.8290163190291664, -2.8290163190291664, -2.8290163190291664, -2.8290163190291664, -2.8290163190291664, -2.8290163190291664, -2.8290163190291664, -2.8290163190291664]\n"
     ]
    },
    {
     "data": {
      "image/png": "[encoded data removed]",
      "text/plain": [
       "<Figure size 432x288 with 1 Axes>"
      ]
     },
     "metadata": {
      "needs_background": "light"
     },
     "output_type": "display_data"
    }
   ],
   "source": [
    "# I've provided a solution file called solution.py\n",
    "# You are STRONGLY encouraged to NOT look at the code\n",
    "# until after you have solved this yourself.\n",
    "#\n",
    "# You SHOULD, however, feel free to USE the solution \n",
    "# functions to help you understand what your code should\n",
    "# be doing. For example...\n",
    "from helpers import process_data\n",
    "import solution\n",
    "\n",
    "data_list = process_data(\"trajectory_example.pickle\")\n",
    "solution.show_x_y(data_list)"
   ]
  },
  {
   "cell_type": "code",
   "execution_count": 3,
   "metadata": {},
   "outputs": [
    {
     "data": {
      "image/png": "[encoded data removed]",
      "text/plain": [
       "<Figure size 432x288 with 1 Axes>"
      ]
     },
     "metadata": {
      "needs_background": "light"
     },
     "output_type": "display_data"
    }
   ],
   "source": [
    "# What about the other trajectories?\n",
    "\n",
    "three_quarter_turn_data = process_data(\"trajectory_1.pickle\")\n",
    "solution.show_x_y(three_quarter_turn_data, increment=10)"
   ]
  },
  {
   "cell_type": "code",
   "execution_count": 4,
   "metadata": {},
   "outputs": [
    {
     "data": {
      "image/png": "[encoded data removed]",
      "text/plain": [
       "<Figure size 432x288 with 1 Axes>"
      ]
     },
     "metadata": {
      "needs_background": "light"
     },
     "output_type": "display_data"
    }
   ],
   "source": [
    "merge_data = process_data('trajectory_2.pickle')\n",
    "solution.show_x_y(merge_data,increment=10)"
   ]
  },
  {
   "cell_type": "code",
   "execution_count": 5,
   "metadata": {},
   "outputs": [
    {
     "data": {
      "image/png": "[encoded data removed]",
      "text/plain": [
       "<Figure size 432x288 with 1 Axes>"
      ]
     },
     "metadata": {
      "needs_background": "light"
     },
     "output_type": "display_data"
    }
   ],
   "source": [
    "parallel_park = process_data(\"trajectory_3.pickle\")\n",
    "solution.show_x_y(parallel_park,increment=5)"
   ]
  },
  {
   "cell_type": "markdown",
   "metadata": {},
   "source": [
    "**How do you make those cool arrows?!**\n",
    "\n",
    "I did a Google search for \"python plot grid of arrows\" and the second result led me to some [demonstration code](https://matplotlib.org/examples/pylab_examples/quiver_demo.html) that was really helpful. "
   ]
  },
  {
   "cell_type": "markdown",
   "metadata": {},
   "source": [
    "## Testing Correctness\n",
    "Testing code is provided at the bottom of this notebook. Note that only `get_speeds`, `get_x_y`, and `get_headings` are tested automatically. You will have to \"test\" your `show_x_y` function by manually comparing your plots to the expected plots. "
   ]
  },
  {
   "cell_type": "markdown",
   "metadata": {},
   "source": [
    "### Initial Vehicle State\n",
    "\n",
    "The vehicle always begins with all state variables equal to zero. This means `x`, `y`, `theta` (heading), `speed`, `yaw_rate`, and `acceleration` are 0 at t=0."
   ]
  },
  {
   "cell_type": "markdown",
   "metadata": {},
   "source": [
    "----"
   ]
  },
  {
   "cell_type": "markdown",
   "metadata": {},
   "source": [
    "## Your Code!\n",
    "Complete the functions in the cell below. I recommend completing them in the order shown. Use the cells at the end of the notebook to test as you go."
   ]
  },
  {
   "cell_type": "code",
   "execution_count": 120,
   "metadata": {},
   "outputs": [],
   "source": [
    "# timestamp, displacement, yaw_rate, acceleration\n",
    "import math\n",
    "def get_speeds(data_list):\n",
    "    timestamps = [data[0] for data in data_list]\n",
    "    disps = [data[1] for data in data_list]\n",
    "    speeds = [0]\n",
    "    #print(len(disps))\n",
    "    for i in range(1,len(disps)):\n",
    "        speeds.append( (disps[i]-disps[i-1])/(timestamps[i]-timestamps[i-1]) )\n",
    "    return speeds\n",
    "\n",
    "def get_headings(data_list):\n",
    "    yaw = [data[2] for data in data_list]\n",
    "    timestamps = [data[0] for data in data_list]\n",
    "    headings = [0]\n",
    "    prev_heading = 0\n",
    "    print(len(yaw))\n",
    "    for i in range(1,len(yaw)):\n",
    "        dt = timestamps[i]-timestamps[i-1]\n",
    "        prev_heading += yaw[i]*dt\n",
    "        prev_heading = prev_heading % (2*math.pi)\n",
    "        #print(yaw[i], prev_heading)\n",
    "        headings.append(prev_heading)\n",
    "    return headings\n",
    "\n",
    "def get_x_y(data_list):\n",
    "    timestamps = [data[0] for data in data_list]\n",
    "    disps = [data[1] for data in data_list]\n",
    "    yaw = [data[2] for data in data_list]\n",
    "    headings = get_headings(data_list)\n",
    "    x_y = [(0.,0.)]\n",
    "    x, y = 0, 0\n",
    "    for i in range(1,len(yaw)):\n",
    "        dt = timestamps[i]-timestamps[i-1]\n",
    "        dd = disps[i]-disps[i-1]\n",
    "        dx = dd*math.cos(headings[i])\n",
    "        dy = dd*math.sin(headings[i])\n",
    "        x = x+dx\n",
    "        y = y+dy\n",
    "        x_y.append((x,y))\n",
    "        #print( dd, headings[i],math.cos(headings[i]), math.sin(headings[i]), x,y)\n",
    "    return x_y\n",
    "\n",
    "def show_x_y(data_list):\n",
    "    import numpy as np\n",
    "    from matplotlib import pyplot as plt\n",
    "    x_y = get_x_y(data_list)\n",
    "    x = [x[0] for x in x_y]\n",
    "    y = [x[1] for x in x_y]\n",
    "    min_x = min(x)\n",
    "    max_x = max(x)\n",
    "    min_y = min(y)\n",
    "    max_y = max(y)\n",
    "    headings = get_headings(data_list)\n",
    "    h_x = np.cos(headings)\n",
    "    h_y = np.sin(headings)\n",
    "    increment=1\n",
    "    Q = plt.quiver(x[::increment],\n",
    "                   y[::increment],\n",
    "                   h_x[::increment],\n",
    "                   h_y[::increment],\n",
    "                   units='x',\n",
    "                   pivot='tip')\n",
    "    qk = plt.quiverkey(Q, 0.9, 0.9, 2, r'$1 \\frac{m}{s}',\n",
    "                       labelpos='E', coordinates='figure')\n",
    "    plt.show()\n",
    "    "
   ]
  },
  {
   "cell_type": "markdown",
   "metadata": {},
   "source": [
    "## Testing\n",
    "Test your functions by running the cells below."
   ]
  },
  {
   "cell_type": "code",
   "execution_count": 121,
   "metadata": {},
   "outputs": [
    {
     "name": "stdout",
     "output_type": "stream",
     "text": [
      "15\n",
      "15\n"
     ]
    },
    {
     "data": {
      "image/png": "[encoded data removed]",
      "text/plain": [
       "<Figure size 432x288 with 1 Axes>"
      ]
     },
     "metadata": {
      "needs_background": "light"
     },
     "output_type": "display_data"
    }
   ],
   "source": [
    "show_x_y(data_list)"
   ]
  },
  {
   "cell_type": "code",
   "execution_count": 87,
   "metadata": {},
   "outputs": [
    {
     "name": "stdout",
     "output_type": "stream",
     "text": [
      "[0, 0.0, 4.9, 9.8, 14.700000000000001, 19.599999999999998, 19.599999999999994, 19.599999999999994, 19.599999999999994, 19.599999999999994, 19.599999999999994, 19.599999999999994, 19.599999999999994, 19.599999999999994, 19.599999999999994]\n",
      "PASSED test of get_speeds function!\n"
     ]
    }
   ],
   "source": [
    "from testing import test_get_speeds, test_get_x_y, test_get_headings\n",
    "print(get_speeds(data_list))\n",
    "test_get_speeds(get_speeds)"
   ]
  },
  {
   "cell_type": "code",
   "execution_count": 88,
   "metadata": {},
   "outputs": [
    {
     "name": "stdout",
     "output_type": "stream",
     "text": [
      "342\n",
      "PASSED test of get_headings function!\n"
     ]
    }
   ],
   "source": [
    "test_get_headings(get_headings)\n",
    "#print( [data[2] for data in data_list])\n",
    "#print(get_headings(data_list))\n",
    "#print(solution.get_headings(data_list))"
   ]
  },
  {
   "cell_type": "code",
   "execution_count": 90,
   "metadata": {},
   "outputs": [
    {
     "name": "stdout",
     "output_type": "stream",
     "text": [
      "342\n",
      "PASSED test of get_x_y function!\n"
     ]
    }
   ],
   "source": [
    "#print(solution.get_x_y(data_list))\n",
    "test_get_x_y(get_x_y)\n",
    "#print(solution.get_x_y(data_list))"
   ]
  },
  {
   "cell_type": "code",
   "execution_count": null,
   "metadata": {},
   "outputs": [],
   "source": []
  }
 ],
 "metadata": {
  "kernelspec": {
   "display_name": "Python 3",
   "language": "python",
   "name": "python3"
  },
  "language_info": {
   "codemirror_mode": {
    "name": "ipython",
    "version": 3
   },
   "file_extension": ".py",
   "mimetype": "text/x-python",
   "name": "python",
   "nbconvert_exporter": "python",
   "pygments_lexer": "ipython3",
   "version": "3.5.2"
  }
 },
 "nbformat": 4,
 "nbformat_minor": 2
}
